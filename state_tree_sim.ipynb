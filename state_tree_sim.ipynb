{
 "cells": [
  {
   "cell_type": "code",
   "execution_count": 1,
   "id": "0266f592-b22d-4889-bee6-8585c1991e1d",
   "metadata": {},
   "outputs": [],
   "source": [
    "import pandas as pd\n",
    "import numpy as np"
   ]
  },
  {
   "cell_type": "code",
   "execution_count": 2,
   "id": "d0f5d5bf-b0c8-40ca-9599-6bdc5ff341b4",
   "metadata": {},
   "outputs": [],
   "source": [
    "\n",
    "\n",
    "# GameState\n",
    "#     turn               # 1…9\n",
    "#     active_player      # whose move\n",
    "#     vp                 # victory‑points per player\n",
    "#     resources          # {Money, Materials, Science} per player\n",
    "#     map_tiles          # dict{hex_id → TileInfo}\n",
    "#     fleets             # dict{player → list[Fleet]}\n",
    "#     techs              # set of techs per player\n",
    "#     action_discs_left  # num of actions each player can still take this round\n",
    "#     explored_tiles     # list[TileNumber]  – needed by exploration sims\n",
    "#     # … any other signals you care about (alliances, reputation, etc.)\n"
   ]
  },
  {
   "cell_type": "code",
   "execution_count": 3,
   "id": "b86d4280-c987-4209-826a-78defb16c3b0",
   "metadata": {},
   "outputs": [],
   "source": [
    "## legal action generator\n",
    "\n",
    "# function generate_actions(state: GameState, player):\n",
    "#     actions = []\n",
    "#     if state.action_discs_left[player] == 0:           return ['pass']\n",
    "\n",
    "#     # 2.1 Explore\n",
    "#     for neighbor_hex in unexplored_neighbors(player):\n",
    "#         actions.append(Explore(neighbor_hex))\n",
    "\n",
    "#     # 2.2 Build / Upgrade\n",
    "#     if state.resources[player].Materials ≥ cost_to_build():\n",
    "#         actions.append(Build(blueprint, location))\n",
    "\n",
    "#     # 2.3 Move / Attack\n",
    "#     for fleet in state.fleets[player]:\n",
    "#         for target_hex in reachable_hexes(fleet):\n",
    "#             actions.append(Move(fleet.id, target_hex))\n",
    "\n",
    "#     # 2.4 Research\n",
    "#     if state.resources[player].Science ≥ cheapest_available_tech():\n",
    "#         actions.append(Research(tech_name))\n",
    "\n",
    "#     return actions\n"
   ]
  },
  {
   "cell_type": "code",
   "execution_count": 4,
   "id": "f48fda1c-5d5d-4f92-ada7-33b98bb15e6d",
   "metadata": {},
   "outputs": [],
   "source": [
    "## forward model\n",
    "\n",
    "# function apply_action(state, action, sims_per_combat=300):\n",
    "#     if action.type == 'Explore':\n",
    "#         # 3a – draw ALL legal tiles for that sector\n",
    "#         possible_tiles = draw_tiles(state, sector_of(action.hex))\n",
    "#         # branch on each tile equally\n",
    "#         return [(state_after_placing_tile(state, action.hex, tile),\n",
    "#                  1/len(possible_tiles))\n",
    "#                 for tile in possible_tiles]\n",
    "\n",
    "#     if action.type == 'Move' and target_contains_enemy(state, action):\n",
    "#         # 3b – combat branch: use your Monte‑Carlo wrapper\n",
    "#         stats = run_monte_carlo(fleetA, fleetB, n=sims_per_combat)\n",
    "#         p_win   = stats.win_count_A / sims_per_combat\n",
    "#         p_lose  = stats.win_count_B / sims_per_combat\n",
    "#         p_draw  = stats.draws        / sims_per_combat\n",
    "\n",
    "#         return [\n",
    "#             (post_combat_state(state, attacker_wins=True,  stats), p_win),\n",
    "#             (post_combat_state(state, attacker_wins=False, stats), p_lose),\n",
    "#             (post_combat_state(state, draw=True,           stats), p_draw)\n",
    "#         ]\n",
    "\n",
    "#     # 3c – all other actions are deterministic\n",
    "#     return [(state_after_deterministic_change(state, action), 1.0)]\n"
   ]
  },
  {
   "cell_type": "code",
   "execution_count": 5,
   "id": "c6762c15-5e3d-4bf7-8568-9ac70a227271",
   "metadata": {},
   "outputs": [],
   "source": [
    "## evaluation function\n",
    "\n",
    "# function heuristic(state, player):\n",
    "#     vp_now     = state.vp[player]\n",
    "#     vp_resources = (state.resources[player].Money   / 3) +   # rough trade‑off\n",
    "#                    (state.resources[player].Science / 1) +   # easier to spend\n",
    "#                    (state.resources[player].Materials / 2)\n",
    "\n",
    "#     board_control = count_hexes_controlled(player) * 0.5\n",
    "#     fleet_power   = total_fleet_cost(player) * 0.3\n",
    "\n",
    "#     return vp_now + vp_resources + board_control + fleet_power\n"
   ]
  },
  {
   "cell_type": "code",
   "execution_count": 6,
   "id": "7f154b7e-a588-482f-94d2-2480c9f1378b",
   "metadata": {},
   "outputs": [],
   "source": [
    "### search loop \n",
    "\n",
    "# function expectimax(state, player, depth, sims):\n",
    "#     if depth == 0 or game_over(state):\n",
    "#         return heuristic(state, player)\n",
    "\n",
    "#     best = -∞\n",
    "#     for action in generate_actions(state, player):\n",
    "#         value = 0\n",
    "#         for (next_state, p) in apply_action(state.copy(), action, sims):\n",
    "#             value += p * expectimax(next_state,\n",
    "#                                     next_player(player),\n",
    "#                                     depth‑1,\n",
    "#                                     sims)\n",
    "#         best = max(best, value)\n",
    "#     return best"
   ]
  },
  {
   "cell_type": "code",
   "execution_count": null,
   "id": "781b3850-9d1c-45ff-b83b-1d7d322c73f0",
   "metadata": {},
   "outputs": [],
   "source": [
    "# best_score = -∞\n",
    "# best_action = None\n",
    "# for action in generate_actions(root_state, my_id):\n",
    "#     score = 0\n",
    "#     for (s′, p) in apply_action(root_state.copy(), action):\n",
    "#         score += p * expectimax(s′, next_player(my_id), search_depth‑1, sims)\n",
    "#     if score > best_score:\n",
    "#         best_score, best_action = score, action\n",
    "\n",
    "# return best_action\n"
   ]
  },
  {
   "cell_type": "code",
   "execution_count": null,
   "id": "166d33e5-df59-4a59-99a4-c8156144d6d2",
   "metadata": {},
   "outputs": [],
   "source": [
    "# 6. Why this works for Eclipse\n",
    "# Exploration randomness → handled in apply_action by branching on each tile.\n",
    "# Combat variance → handled with your existing Monte‑Carlo wrapper.\n",
    "# Alternating turns → the recursive next_player call flips the maximizer.\n",
    "# High branching factor → cap depth (e.g., two full actions ahead) or switch to MCTS later; the plumbing above is compatible."
   ]
  },
  {
   "cell_type": "code",
   "execution_count": 7,
   "id": "f7883b05-20a0-4a91-8701-ff51911d15ed",
   "metadata": {},
   "outputs": [],
   "source": [
    "# 7. Places to plug in your existing notebooks\n",
    "# Task\tDrop‑in helper\n",
    "# Tile expectations\texpected_explore_values (for heuristic)\n",
    "# Random tile draws\tsimulate_full_game (or simple .sample like above)\n",
    "# Combat resolution\tsimulate_battle or run_monte_carlo inside apply_action\n",
    "# Fleet power calc\treuse your blueprint dictionaries"
   ]
  },
  {
   "cell_type": "code",
   "execution_count": null,
   "id": "834f82fc-1250-4915-856b-8352a132a9e0",
   "metadata": {},
   "outputs": [],
   "source": [
    "Next steps\n",
    "Start with a micro‑game – 2 players, 4 hex map, no techs – and make sure the tree runs in < 1 sec at depth 2.\n",
    "Add caching (transposition_table) so identical states aren’t re‑evaluated.\n",
    "Once stable, swap expectimax for MCTS to look 4–5 moves ahead without exploding RAM.\n",
    "\n"
   ]
  },
  {
   "cell_type": "code",
   "execution_count": null,
   "id": "59cf862d-0644-422b-be89-e0e737521b5e",
   "metadata": {},
   "outputs": [],
   "source": []
  }
 ],
 "metadata": {
  "kernelspec": {
   "display_name": "Python 3 (ipykernel)",
   "language": "python",
   "name": "python3"
  },
  "language_info": {
   "codemirror_mode": {
    "name": "ipython",
    "version": 3
   },
   "file_extension": ".py",
   "mimetype": "text/x-python",
   "name": "python",
   "nbconvert_exporter": "python",
   "pygments_lexer": "ipython3",
   "version": "3.12.7"
  }
 },
 "nbformat": 4,
 "nbformat_minor": 5
}
